{
 "cells": [
  {
   "cell_type": "code",
   "execution_count": 13,
   "metadata": {},
   "outputs": [],
   "source": [
    "def load_pi_digits(filename):\n",
    "    pi_string=\"\"\n",
    "    with open(filename, \"r\") as f:\n",
    "        line=f.readline()\n",
    "        while line:\n",
    "            pi_string += line.strip()\n",
    "            line=f.readline()\n",
    "    print(pi_string)    \n",
    "    return pi_string"
   ]
  },
  {
   "cell_type": "code",
   "execution_count": 14,
   "metadata": {},
   "outputs": [],
   "source": [
    "def get_pi_one_gram_stats(filename):\n",
    "    pi_string=load_pi_digits(filename)\n",
    "    Tot_num={str(i):0 for i in range(10)}\n",
    "    for digit in pi_string:\n",
    "        print(digit)\n",
    "        if digit not in Tot_num:\n",
    "            continue\n",
    "        \n",
    "           \n",
    "        Tot_num[digit]+=1\n",
    "    return Tot_num"
   ]
  },
  {
   "cell_type": "code",
   "execution_count": null,
   "metadata": {},
   "outputs": [],
   "source": [
    "filename='pi_few.txt'\n",
    "value=get_pi_one_gram_stats(filename)\n",
    "print(value)"
   ]
  },
  {
   "cell_type": "code",
   "execution_count": 16,
   "metadata": {},
   "outputs": [
    {
     "data": {
      "image/png": "[encoded data removed]",
      "text/plain": [
       "<Figure size 640x480 with 1 Axes>"
      ]
     },
     "metadata": {},
     "output_type": "display_data"
    }
   ],
   "source": [
    "import matplotlib.pyplot as plt\n",
    "plt.bar(value.keys(), value.values())   \n",
    "plt.show()"
   ]
  }
 ],
 "metadata": {
  "kernelspec": {
   "display_name": "Python 3",
   "language": "python",
   "name": "python3"
  },
  "language_info": {
   "codemirror_mode": {
    "name": "ipython",
    "version": 3
   },
   "file_extension": ".py",
   "mimetype": "text/x-python",
   "name": "python",
   "nbconvert_exporter": "python",
   "pygments_lexer": "ipython3",
   "version": "3.13.2"
  }
 },
 "nbformat": 4,
 "nbformat_minor": 2
}
